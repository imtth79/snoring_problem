{
  "nbformat": 4,
  "nbformat_minor": 0,
  "metadata": {
    "colab": {
      "name": "cnn_train.ipynb",
      "private_outputs": true,
      "provenance": [],
      "collapsed_sections": []
    },
    "kernelspec": {
      "name": "python3",
      "display_name": "Python 3"
    },
    "language_info": {
      "name": "python"
    },
    "accelerator": "GPU"
  },
  "cells": [
    {
      "cell_type": "code",
      "metadata": {
        "id": "5inn2aaAKGFD"
      },
      "source": [
        "from google.colab import drive\n",
        "drive.mount('/content/drive')"
      ],
      "execution_count": null,
      "outputs": []
    },
    {
      "cell_type": "code",
      "metadata": {
        "id": "bs7096KrKiob"
      },
      "source": [
        "import os\n",
        "import keras\n",
        "from keras.models import Sequential\n",
        "from keras.layers import Dense, Dropout, Flatten\n",
        "from keras.layers import Conv2D, MaxPooling2D\n",
        "from keras.layers import Activation\n",
        "from keras.preprocessing import image\n",
        "import numpy as np\n",
        "import matplotlib.pyplot as plt\n",
        "from sklearn.model_selection import train_test_split"
      ],
      "execution_count": null,
      "outputs": []
    },
    {
      "cell_type": "code",
      "metadata": {
        "id": "p5RFioW2PJMU"
      },
      "source": [
        "pathSnoring = '/content/drive/MyDrive/PAPER HN/Snoring problem/Data/MFCCData_p/Snoring/'\n",
        "pathNonSnoring = '/content/drive/MyDrive/PAPER HN/Snoring problem/Data/MFCCData_p/NonSnoring/'\n",
        "\n",
        "listSnoreFile = os.listdir(pathSnoring)\n",
        "listNonSnoreFile = os.listdir(pathNonSnoring)"
      ],
      "execution_count": null,
      "outputs": []
    },
    {
      "cell_type": "code",
      "metadata": {
        "id": "9ZnPX5-sQGDE"
      },
      "source": [
        "train_image = []\n",
        "label = []\n",
        "\n",
        "num_feature = 0\n",
        "for id in range(0, len(listSnoreFile)):\n",
        "  filePath = os.path.join(pathSnoring, listSnoreFile[id])\n",
        "  img = image.load_img(filePath, target_size=(32,32,1), grayscale=True)\n",
        "  img = image.img_to_array(img)\n",
        "  img = img / 255\n",
        "  train_image.append(img)\n",
        "  num_feature += 1\n",
        "label.extend([1] * num_feature)\n",
        "\n",
        "num_feature = 0\n",
        "for id in range(0, len(listNonSnoreFile)):\n",
        "  filePath = os.path.join(pathNonSnoring, listNonSnoreFile[id])\n",
        "  img = image.load_img(filePath, target_size=(32,32,1), grayscale=True)\n",
        "  img = image.img_to_array(img)\n",
        "  img = img / 255\n",
        "  train_image.append(img)\n",
        "  num_feature += 1\n",
        "label.extend([0] * num_feature)\n",
        "\n",
        "X, y = np.array(train_image), np.array(label)"
      ],
      "execution_count": null,
      "outputs": []
    },
    {
      "cell_type": "code",
      "metadata": {
        "id": "KX2YKPEBdIX5"
      },
      "source": [
        "print(X.shape)"
      ],
      "execution_count": null,
      "outputs": []
    },
    {
      "cell_type": "code",
      "metadata": {
        "id": "vFjZxzQgDU73"
      },
      "source": [
        "X_train, X_test, y_train, y_test = train_test_split(X, y, test_size = 0.1)\n",
        "test = X_test\n",
        "X_train, X_test, y_train, y_test = train_test_split(X_train, y_train, test_size = 0.222)\n",
        "print(X_train.shape)"
      ],
      "execution_count": null,
      "outputs": []
    },
    {
      "cell_type": "code",
      "metadata": {
        "id": "UdEcB6TOj8Sy"
      },
      "source": [
        "model = Sequential()\n",
        "model.add(Conv2D(32, kernel_size = (3,3), padding = \"same\", activation=\"relu\", input_shape = (32,32,1)))\n",
        "model.add(Conv2D(32, kernel_size = (3,3), padding = \"valid\", activation=\"relu\"))\n",
        "model.add(MaxPooling2D(pool_size=(2, 2)))\n",
        "model.add(Dropout(0.25))\n",
        "model.add(Conv2D(64, kernel_size = (3,3), padding = \"same\", activation=\"relu\"))\n",
        "model.add(Conv2D(64, kernel_size = (3,3), padding = \"valid\", activation=\"relu\"))\n",
        "model.add(MaxPooling2D(pool_size=(2, 2)))\n",
        "model.add(Dropout(0.25))\n",
        "model.add(Flatten())\n",
        "model.add(Dense(512, activation='relu'))\n",
        "model.add(Dropout(0.50))\n",
        "model.add(Dense(64, activation='relu'))\n",
        "model.add(Dense(1, activation='sigmoid'))"
      ],
      "execution_count": null,
      "outputs": []
    },
    {
      "cell_type": "code",
      "metadata": {
        "id": "Wrn_xW8_tMew"
      },
      "source": [
        "model.compile(loss='binary_crossentropy',optimizer='RMSprop',metrics=['accuracy'])"
      ],
      "execution_count": null,
      "outputs": []
    },
    {
      "cell_type": "code",
      "metadata": {
        "id": "DfL931l3ORQ2"
      },
      "source": [
        "history = model.fit(X_train, y_train, epochs = 6000, validation_data = (X_test, y_test))"
      ],
      "execution_count": null,
      "outputs": []
    },
    {
      "cell_type": "code",
      "metadata": {
        "id": "y4smCcdrpa0P"
      },
      "source": [
        "print(history.history.keys())"
      ],
      "execution_count": null,
      "outputs": []
    },
    {
      "cell_type": "code",
      "metadata": {
        "id": "RsQnQVUq1Qph"
      },
      "source": [
        "plt.plot(history.history['accuracy'])\n",
        "plt.plot(history.history['val_accuracy'])\n",
        "plt.title('model accuracy')\n",
        "plt.ylabel('accuracy')\n",
        "plt.xlabel('epoch')\n",
        "plt.legend(['train', 'valid'], loc='upper left')\n",
        "plt.show()"
      ],
      "execution_count": null,
      "outputs": []
    },
    {
      "cell_type": "code",
      "metadata": {
        "id": "BX2ubS1q1f3t"
      },
      "source": [
        "plt.plot(history.history['loss'])\n",
        "plt.plot(history.history['val_loss'])\n",
        "plt.title('model loss')\n",
        "plt.ylabel('loss')\n",
        "plt.xlabel('epoch')\n",
        "plt.legend(['train', 'valid'], loc='upper left')\n",
        "plt.show()"
      ],
      "execution_count": null,
      "outputs": []
    },
    {
      "cell_type": "code",
      "metadata": {
        "id": "oSHr0hcFtFSA"
      },
      "source": [
        "from google.colab import files\n",
        "model.save('cnn_model.h5')\n",
        "files.download('cnn_model.h5')"
      ],
      "execution_count": null,
      "outputs": []
    }
  ]
}