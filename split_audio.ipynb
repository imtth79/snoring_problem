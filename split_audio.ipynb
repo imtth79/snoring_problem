{
  "nbformat": 4,
  "nbformat_minor": 0,
  "metadata": {
    "colab": {
      "name": "split_audio.ipynb",
      "provenance": []
    },
    "kernelspec": {
      "name": "python3",
      "display_name": "Python 3"
    },
    "language_info": {
      "name": "python"
    }
  },
  "cells": [
    {
      "cell_type": "code",
      "execution_count": null,
      "metadata": {
        "colab": {
          "base_uri": "https://localhost:8080/"
        },
        "id": "BV638lRU3JBG",
        "outputId": "0767e634-f6b0-4fae-a1f5-e9c657ddfdda"
      },
      "outputs": [
        {
          "output_type": "stream",
          "name": "stdout",
          "text": [
            "Mounted at /content/drive\n"
          ]
        }
      ],
      "source": [
        "from google.colab import drive\n",
        "drive.mount('/content/drive')"
      ]
    },
    {
      "cell_type": "code",
      "source": [
        "!pip install pydub"
      ],
      "metadata": {
        "colab": {
          "base_uri": "https://localhost:8080/"
        },
        "id": "4DxjEmimSWNa",
        "outputId": "7722d321-5639-42c0-de7b-c13600908caf"
      },
      "execution_count": null,
      "outputs": [
        {
          "output_type": "stream",
          "name": "stdout",
          "text": [
            "Collecting pydub\n",
            "  Downloading pydub-0.25.1-py2.py3-none-any.whl (32 kB)\n",
            "Installing collected packages: pydub\n",
            "Successfully installed pydub-0.25.1\n"
          ]
        }
      ]
    },
    {
      "cell_type": "code",
      "source": [
        "from pydub import AudioSegment\n",
        "from pydub.utils import make_chunks\n",
        "import os"
      ],
      "metadata": {
        "id": "JTAtd-VVvrFm"
      },
      "execution_count": null,
      "outputs": []
    },
    {
      "cell_type": "code",
      "source": [
        "data_dir = '/content/drive/MyDrive/PAPER HN/Snoring problem/Data/CustomData/Raw/'\n",
        "res_data_dir = '/content/drive/MyDrive/PAPER HN/Snoring problem/Data/CustomData/'\n",
        "all_file_names = os.listdir(data_dir)"
      ],
      "metadata": {
        "id": "KI2Qqzebw662"
      },
      "execution_count": null,
      "outputs": []
    },
    {
      "cell_type": "code",
      "source": [
        "def process_audio(file_name):\n",
        "    myaudio = AudioSegment.from_file(data_dir + '/' + file_name, \"wav\")\n",
        "    chunk_length_ms = 1000\n",
        "    chunks = make_chunks(myaudio, chunk_length_ms)\n",
        "    for i, chunk in enumerate(chunks):\n",
        "        chunk_name = res_data_dir + \"0_\" + str(i + 2382) + \".wav\".format(i)\n",
        "        print(\"exporting\", chunk_name)\n",
        "        chunk.export(chunk_name, format = \"wav\")"
      ],
      "metadata": {
        "id": "ZyAFV8Jrv2PO"
      },
      "execution_count": null,
      "outputs": []
    },
    {
      "cell_type": "code",
      "source": [
        "try:\n",
        "    os.makedirs(res_data_dir)\n",
        "except:\n",
        "    pass"
      ],
      "metadata": {
        "id": "9AybfJRPxfk3"
      },
      "execution_count": null,
      "outputs": []
    },
    {
      "cell_type": "code",
      "source": [
        "for each_file in all_file_names:\n",
        "    if (\".wav\" in each_file):\n",
        "       process_audio(each_file)"
      ],
      "metadata": {
        "id": "L7il9RUixp2-",
        "colab": {
          "base_uri": "https://localhost:8080/"
        },
        "outputId": "8715a76c-67db-42c2-cf14-f993012e03e1"
      },
      "execution_count": null,
      "outputs": [
        {
          "output_type": "stream",
          "name": "stdout",
          "text": [
            "exporting /content/drive/MyDrive/PAPER HN/Snoring problem/Data/CustomData/0_2382.wav\n",
            "exporting /content/drive/MyDrive/PAPER HN/Snoring problem/Data/CustomData/0_2383.wav\n",
            "exporting /content/drive/MyDrive/PAPER HN/Snoring problem/Data/CustomData/0_2384.wav\n",
            "exporting /content/drive/MyDrive/PAPER HN/Snoring problem/Data/CustomData/0_2385.wav\n",
            "exporting /content/drive/MyDrive/PAPER HN/Snoring problem/Data/CustomData/0_2386.wav\n",
            "exporting /content/drive/MyDrive/PAPER HN/Snoring problem/Data/CustomData/0_2387.wav\n",
            "exporting /content/drive/MyDrive/PAPER HN/Snoring problem/Data/CustomData/0_2388.wav\n",
            "exporting /content/drive/MyDrive/PAPER HN/Snoring problem/Data/CustomData/0_2389.wav\n",
            "exporting /content/drive/MyDrive/PAPER HN/Snoring problem/Data/CustomData/0_2390.wav\n",
            "exporting /content/drive/MyDrive/PAPER HN/Snoring problem/Data/CustomData/0_2391.wav\n",
            "exporting /content/drive/MyDrive/PAPER HN/Snoring problem/Data/CustomData/0_2392.wav\n",
            "exporting /content/drive/MyDrive/PAPER HN/Snoring problem/Data/CustomData/0_2393.wav\n",
            "exporting /content/drive/MyDrive/PAPER HN/Snoring problem/Data/CustomData/0_2394.wav\n",
            "exporting /content/drive/MyDrive/PAPER HN/Snoring problem/Data/CustomData/0_2395.wav\n",
            "exporting /content/drive/MyDrive/PAPER HN/Snoring problem/Data/CustomData/0_2396.wav\n",
            "exporting /content/drive/MyDrive/PAPER HN/Snoring problem/Data/CustomData/0_2397.wav\n",
            "exporting /content/drive/MyDrive/PAPER HN/Snoring problem/Data/CustomData/0_2398.wav\n",
            "exporting /content/drive/MyDrive/PAPER HN/Snoring problem/Data/CustomData/0_2399.wav\n",
            "exporting /content/drive/MyDrive/PAPER HN/Snoring problem/Data/CustomData/0_2400.wav\n",
            "exporting /content/drive/MyDrive/PAPER HN/Snoring problem/Data/CustomData/0_2401.wav\n",
            "exporting /content/drive/MyDrive/PAPER HN/Snoring problem/Data/CustomData/0_2402.wav\n",
            "exporting /content/drive/MyDrive/PAPER HN/Snoring problem/Data/CustomData/0_2403.wav\n",
            "exporting /content/drive/MyDrive/PAPER HN/Snoring problem/Data/CustomData/0_2404.wav\n",
            "exporting /content/drive/MyDrive/PAPER HN/Snoring problem/Data/CustomData/0_2405.wav\n",
            "exporting /content/drive/MyDrive/PAPER HN/Snoring problem/Data/CustomData/0_2406.wav\n",
            "exporting /content/drive/MyDrive/PAPER HN/Snoring problem/Data/CustomData/0_2407.wav\n",
            "exporting /content/drive/MyDrive/PAPER HN/Snoring problem/Data/CustomData/0_2408.wav\n",
            "exporting /content/drive/MyDrive/PAPER HN/Snoring problem/Data/CustomData/0_2409.wav\n",
            "exporting /content/drive/MyDrive/PAPER HN/Snoring problem/Data/CustomData/0_2410.wav\n",
            "exporting /content/drive/MyDrive/PAPER HN/Snoring problem/Data/CustomData/0_2411.wav\n",
            "exporting /content/drive/MyDrive/PAPER HN/Snoring problem/Data/CustomData/0_2412.wav\n",
            "exporting /content/drive/MyDrive/PAPER HN/Snoring problem/Data/CustomData/0_2413.wav\n",
            "exporting /content/drive/MyDrive/PAPER HN/Snoring problem/Data/CustomData/0_2414.wav\n",
            "exporting /content/drive/MyDrive/PAPER HN/Snoring problem/Data/CustomData/0_2415.wav\n",
            "exporting /content/drive/MyDrive/PAPER HN/Snoring problem/Data/CustomData/0_2416.wav\n",
            "exporting /content/drive/MyDrive/PAPER HN/Snoring problem/Data/CustomData/0_2417.wav\n",
            "exporting /content/drive/MyDrive/PAPER HN/Snoring problem/Data/CustomData/0_2418.wav\n",
            "exporting /content/drive/MyDrive/PAPER HN/Snoring problem/Data/CustomData/0_2419.wav\n",
            "exporting /content/drive/MyDrive/PAPER HN/Snoring problem/Data/CustomData/0_2420.wav\n",
            "exporting /content/drive/MyDrive/PAPER HN/Snoring problem/Data/CustomData/0_2421.wav\n",
            "exporting /content/drive/MyDrive/PAPER HN/Snoring problem/Data/CustomData/0_2422.wav\n",
            "exporting /content/drive/MyDrive/PAPER HN/Snoring problem/Data/CustomData/0_2423.wav\n",
            "exporting /content/drive/MyDrive/PAPER HN/Snoring problem/Data/CustomData/0_2424.wav\n",
            "exporting /content/drive/MyDrive/PAPER HN/Snoring problem/Data/CustomData/0_2425.wav\n",
            "exporting /content/drive/MyDrive/PAPER HN/Snoring problem/Data/CustomData/0_2426.wav\n",
            "exporting /content/drive/MyDrive/PAPER HN/Snoring problem/Data/CustomData/0_2427.wav\n",
            "exporting /content/drive/MyDrive/PAPER HN/Snoring problem/Data/CustomData/0_2428.wav\n",
            "exporting /content/drive/MyDrive/PAPER HN/Snoring problem/Data/CustomData/0_2429.wav\n",
            "exporting /content/drive/MyDrive/PAPER HN/Snoring problem/Data/CustomData/0_2430.wav\n",
            "exporting /content/drive/MyDrive/PAPER HN/Snoring problem/Data/CustomData/0_2431.wav\n",
            "exporting /content/drive/MyDrive/PAPER HN/Snoring problem/Data/CustomData/0_2432.wav\n",
            "exporting /content/drive/MyDrive/PAPER HN/Snoring problem/Data/CustomData/0_2433.wav\n",
            "exporting /content/drive/MyDrive/PAPER HN/Snoring problem/Data/CustomData/0_2434.wav\n",
            "exporting /content/drive/MyDrive/PAPER HN/Snoring problem/Data/CustomData/0_2435.wav\n",
            "exporting /content/drive/MyDrive/PAPER HN/Snoring problem/Data/CustomData/0_2436.wav\n",
            "exporting /content/drive/MyDrive/PAPER HN/Snoring problem/Data/CustomData/0_2437.wav\n",
            "exporting /content/drive/MyDrive/PAPER HN/Snoring problem/Data/CustomData/0_2438.wav\n",
            "exporting /content/drive/MyDrive/PAPER HN/Snoring problem/Data/CustomData/0_2439.wav\n",
            "exporting /content/drive/MyDrive/PAPER HN/Snoring problem/Data/CustomData/0_2440.wav\n",
            "exporting /content/drive/MyDrive/PAPER HN/Snoring problem/Data/CustomData/0_2441.wav\n",
            "exporting /content/drive/MyDrive/PAPER HN/Snoring problem/Data/CustomData/0_2442.wav\n",
            "exporting /content/drive/MyDrive/PAPER HN/Snoring problem/Data/CustomData/0_2443.wav\n",
            "exporting /content/drive/MyDrive/PAPER HN/Snoring problem/Data/CustomData/0_2444.wav\n",
            "exporting /content/drive/MyDrive/PAPER HN/Snoring problem/Data/CustomData/0_2445.wav\n",
            "exporting /content/drive/MyDrive/PAPER HN/Snoring problem/Data/CustomData/0_2446.wav\n",
            "exporting /content/drive/MyDrive/PAPER HN/Snoring problem/Data/CustomData/0_2447.wav\n",
            "exporting /content/drive/MyDrive/PAPER HN/Snoring problem/Data/CustomData/0_2448.wav\n",
            "exporting /content/drive/MyDrive/PAPER HN/Snoring problem/Data/CustomData/0_2449.wav\n",
            "exporting /content/drive/MyDrive/PAPER HN/Snoring problem/Data/CustomData/0_2450.wav\n",
            "exporting /content/drive/MyDrive/PAPER HN/Snoring problem/Data/CustomData/0_2451.wav\n",
            "exporting /content/drive/MyDrive/PAPER HN/Snoring problem/Data/CustomData/0_2452.wav\n",
            "exporting /content/drive/MyDrive/PAPER HN/Snoring problem/Data/CustomData/0_2453.wav\n",
            "exporting /content/drive/MyDrive/PAPER HN/Snoring problem/Data/CustomData/0_2454.wav\n",
            "exporting /content/drive/MyDrive/PAPER HN/Snoring problem/Data/CustomData/0_2455.wav\n",
            "exporting /content/drive/MyDrive/PAPER HN/Snoring problem/Data/CustomData/0_2456.wav\n",
            "exporting /content/drive/MyDrive/PAPER HN/Snoring problem/Data/CustomData/0_2457.wav\n",
            "exporting /content/drive/MyDrive/PAPER HN/Snoring problem/Data/CustomData/0_2458.wav\n",
            "exporting /content/drive/MyDrive/PAPER HN/Snoring problem/Data/CustomData/0_2459.wav\n",
            "exporting /content/drive/MyDrive/PAPER HN/Snoring problem/Data/CustomData/0_2460.wav\n",
            "exporting /content/drive/MyDrive/PAPER HN/Snoring problem/Data/CustomData/0_2461.wav\n",
            "exporting /content/drive/MyDrive/PAPER HN/Snoring problem/Data/CustomData/0_2462.wav\n",
            "exporting /content/drive/MyDrive/PAPER HN/Snoring problem/Data/CustomData/0_2463.wav\n",
            "exporting /content/drive/MyDrive/PAPER HN/Snoring problem/Data/CustomData/0_2464.wav\n",
            "exporting /content/drive/MyDrive/PAPER HN/Snoring problem/Data/CustomData/0_2465.wav\n",
            "exporting /content/drive/MyDrive/PAPER HN/Snoring problem/Data/CustomData/0_2466.wav\n",
            "exporting /content/drive/MyDrive/PAPER HN/Snoring problem/Data/CustomData/0_2467.wav\n",
            "exporting /content/drive/MyDrive/PAPER HN/Snoring problem/Data/CustomData/0_2468.wav\n",
            "exporting /content/drive/MyDrive/PAPER HN/Snoring problem/Data/CustomData/0_2469.wav\n",
            "exporting /content/drive/MyDrive/PAPER HN/Snoring problem/Data/CustomData/0_2470.wav\n",
            "exporting /content/drive/MyDrive/PAPER HN/Snoring problem/Data/CustomData/0_2471.wav\n",
            "exporting /content/drive/MyDrive/PAPER HN/Snoring problem/Data/CustomData/0_2472.wav\n",
            "exporting /content/drive/MyDrive/PAPER HN/Snoring problem/Data/CustomData/0_2473.wav\n",
            "exporting /content/drive/MyDrive/PAPER HN/Snoring problem/Data/CustomData/0_2474.wav\n",
            "exporting /content/drive/MyDrive/PAPER HN/Snoring problem/Data/CustomData/0_2475.wav\n",
            "exporting /content/drive/MyDrive/PAPER HN/Snoring problem/Data/CustomData/0_2476.wav\n",
            "exporting /content/drive/MyDrive/PAPER HN/Snoring problem/Data/CustomData/0_2477.wav\n",
            "exporting /content/drive/MyDrive/PAPER HN/Snoring problem/Data/CustomData/0_2478.wav\n",
            "exporting /content/drive/MyDrive/PAPER HN/Snoring problem/Data/CustomData/0_2479.wav\n",
            "exporting /content/drive/MyDrive/PAPER HN/Snoring problem/Data/CustomData/0_2480.wav\n",
            "exporting /content/drive/MyDrive/PAPER HN/Snoring problem/Data/CustomData/0_2481.wav\n",
            "exporting /content/drive/MyDrive/PAPER HN/Snoring problem/Data/CustomData/0_2482.wav\n",
            "exporting /content/drive/MyDrive/PAPER HN/Snoring problem/Data/CustomData/0_2483.wav\n",
            "exporting /content/drive/MyDrive/PAPER HN/Snoring problem/Data/CustomData/0_2484.wav\n",
            "exporting /content/drive/MyDrive/PAPER HN/Snoring problem/Data/CustomData/0_2485.wav\n",
            "exporting /content/drive/MyDrive/PAPER HN/Snoring problem/Data/CustomData/0_2486.wav\n",
            "exporting /content/drive/MyDrive/PAPER HN/Snoring problem/Data/CustomData/0_2487.wav\n",
            "exporting /content/drive/MyDrive/PAPER HN/Snoring problem/Data/CustomData/0_2488.wav\n",
            "exporting /content/drive/MyDrive/PAPER HN/Snoring problem/Data/CustomData/0_2489.wav\n",
            "exporting /content/drive/MyDrive/PAPER HN/Snoring problem/Data/CustomData/0_2490.wav\n",
            "exporting /content/drive/MyDrive/PAPER HN/Snoring problem/Data/CustomData/0_2491.wav\n",
            "exporting /content/drive/MyDrive/PAPER HN/Snoring problem/Data/CustomData/0_2492.wav\n",
            "exporting /content/drive/MyDrive/PAPER HN/Snoring problem/Data/CustomData/0_2493.wav\n",
            "exporting /content/drive/MyDrive/PAPER HN/Snoring problem/Data/CustomData/0_2494.wav\n",
            "exporting /content/drive/MyDrive/PAPER HN/Snoring problem/Data/CustomData/0_2495.wav\n",
            "exporting /content/drive/MyDrive/PAPER HN/Snoring problem/Data/CustomData/0_2496.wav\n",
            "exporting /content/drive/MyDrive/PAPER HN/Snoring problem/Data/CustomData/0_2497.wav\n",
            "exporting /content/drive/MyDrive/PAPER HN/Snoring problem/Data/CustomData/0_2498.wav\n",
            "exporting /content/drive/MyDrive/PAPER HN/Snoring problem/Data/CustomData/0_2499.wav\n",
            "exporting /content/drive/MyDrive/PAPER HN/Snoring problem/Data/CustomData/0_2500.wav\n",
            "exporting /content/drive/MyDrive/PAPER HN/Snoring problem/Data/CustomData/0_2501.wav\n",
            "exporting /content/drive/MyDrive/PAPER HN/Snoring problem/Data/CustomData/0_2502.wav\n",
            "exporting /content/drive/MyDrive/PAPER HN/Snoring problem/Data/CustomData/0_2503.wav\n",
            "exporting /content/drive/MyDrive/PAPER HN/Snoring problem/Data/CustomData/0_2504.wav\n",
            "exporting /content/drive/MyDrive/PAPER HN/Snoring problem/Data/CustomData/0_2505.wav\n",
            "exporting /content/drive/MyDrive/PAPER HN/Snoring problem/Data/CustomData/0_2506.wav\n",
            "exporting /content/drive/MyDrive/PAPER HN/Snoring problem/Data/CustomData/0_2507.wav\n",
            "exporting /content/drive/MyDrive/PAPER HN/Snoring problem/Data/CustomData/0_2508.wav\n",
            "exporting /content/drive/MyDrive/PAPER HN/Snoring problem/Data/CustomData/0_2509.wav\n",
            "exporting /content/drive/MyDrive/PAPER HN/Snoring problem/Data/CustomData/0_2510.wav\n",
            "exporting /content/drive/MyDrive/PAPER HN/Snoring problem/Data/CustomData/0_2511.wav\n",
            "exporting /content/drive/MyDrive/PAPER HN/Snoring problem/Data/CustomData/0_2512.wav\n",
            "exporting /content/drive/MyDrive/PAPER HN/Snoring problem/Data/CustomData/0_2513.wav\n",
            "exporting /content/drive/MyDrive/PAPER HN/Snoring problem/Data/CustomData/0_2514.wav\n",
            "exporting /content/drive/MyDrive/PAPER HN/Snoring problem/Data/CustomData/0_2515.wav\n",
            "exporting /content/drive/MyDrive/PAPER HN/Snoring problem/Data/CustomData/0_2516.wav\n",
            "exporting /content/drive/MyDrive/PAPER HN/Snoring problem/Data/CustomData/0_2517.wav\n",
            "exporting /content/drive/MyDrive/PAPER HN/Snoring problem/Data/CustomData/0_2518.wav\n",
            "exporting /content/drive/MyDrive/PAPER HN/Snoring problem/Data/CustomData/0_2519.wav\n",
            "exporting /content/drive/MyDrive/PAPER HN/Snoring problem/Data/CustomData/0_2520.wav\n",
            "exporting /content/drive/MyDrive/PAPER HN/Snoring problem/Data/CustomData/0_2521.wav\n",
            "exporting /content/drive/MyDrive/PAPER HN/Snoring problem/Data/CustomData/0_2522.wav\n",
            "exporting /content/drive/MyDrive/PAPER HN/Snoring problem/Data/CustomData/0_2523.wav\n",
            "exporting /content/drive/MyDrive/PAPER HN/Snoring problem/Data/CustomData/0_2524.wav\n",
            "exporting /content/drive/MyDrive/PAPER HN/Snoring problem/Data/CustomData/0_2525.wav\n",
            "exporting /content/drive/MyDrive/PAPER HN/Snoring problem/Data/CustomData/0_2526.wav\n",
            "exporting /content/drive/MyDrive/PAPER HN/Snoring problem/Data/CustomData/0_2527.wav\n",
            "exporting /content/drive/MyDrive/PAPER HN/Snoring problem/Data/CustomData/0_2528.wav\n",
            "exporting /content/drive/MyDrive/PAPER HN/Snoring problem/Data/CustomData/0_2529.wav\n",
            "exporting /content/drive/MyDrive/PAPER HN/Snoring problem/Data/CustomData/0_2530.wav\n",
            "exporting /content/drive/MyDrive/PAPER HN/Snoring problem/Data/CustomData/0_2531.wav\n",
            "exporting /content/drive/MyDrive/PAPER HN/Snoring problem/Data/CustomData/0_2532.wav\n",
            "exporting /content/drive/MyDrive/PAPER HN/Snoring problem/Data/CustomData/0_2533.wav\n",
            "exporting /content/drive/MyDrive/PAPER HN/Snoring problem/Data/CustomData/0_2534.wav\n",
            "exporting /content/drive/MyDrive/PAPER HN/Snoring problem/Data/CustomData/0_2535.wav\n",
            "exporting /content/drive/MyDrive/PAPER HN/Snoring problem/Data/CustomData/0_2536.wav\n",
            "exporting /content/drive/MyDrive/PAPER HN/Snoring problem/Data/CustomData/0_2537.wav\n",
            "exporting /content/drive/MyDrive/PAPER HN/Snoring problem/Data/CustomData/0_2538.wav\n",
            "exporting /content/drive/MyDrive/PAPER HN/Snoring problem/Data/CustomData/0_2539.wav\n",
            "exporting /content/drive/MyDrive/PAPER HN/Snoring problem/Data/CustomData/0_2540.wav\n",
            "exporting /content/drive/MyDrive/PAPER HN/Snoring problem/Data/CustomData/0_2541.wav\n",
            "exporting /content/drive/MyDrive/PAPER HN/Snoring problem/Data/CustomData/0_2542.wav\n",
            "exporting /content/drive/MyDrive/PAPER HN/Snoring problem/Data/CustomData/0_2543.wav\n",
            "exporting /content/drive/MyDrive/PAPER HN/Snoring problem/Data/CustomData/0_2544.wav\n",
            "exporting /content/drive/MyDrive/PAPER HN/Snoring problem/Data/CustomData/0_2545.wav\n",
            "exporting /content/drive/MyDrive/PAPER HN/Snoring problem/Data/CustomData/0_2546.wav\n",
            "exporting /content/drive/MyDrive/PAPER HN/Snoring problem/Data/CustomData/0_2547.wav\n",
            "exporting /content/drive/MyDrive/PAPER HN/Snoring problem/Data/CustomData/0_2548.wav\n",
            "exporting /content/drive/MyDrive/PAPER HN/Snoring problem/Data/CustomData/0_2549.wav\n"
          ]
        }
      ]
    }
  ]
}