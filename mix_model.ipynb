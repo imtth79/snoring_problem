{
  "nbformat": 4,
  "nbformat_minor": 0,
  "metadata": {
    "colab": {
      "name": "rnn_model.ipynb",
      "provenance": [],
      "collapsed_sections": []
    },
    "kernelspec": {
      "name": "python3",
      "display_name": "Python 3"
    },
    "language_info": {
      "name": "python"
    }
  },
  "cells": [
    {
      "cell_type": "code",
      "metadata": {
        "colab": {
          "base_uri": "https://localhost:8080/"
        },
        "id": "m-fk5CLqoiUP",
        "outputId": "975ac679-038a-4de4-8ff0-1c26df7b027c"
      },
      "source": [
        "from google.colab import drive\n",
        "drive.mount('/content/drive')"
      ],
      "execution_count": null,
      "outputs": [
        {
          "output_type": "stream",
          "name": "stdout",
          "text": [
            "Mounted at /content/drive\n"
          ]
        }
      ]
    },
    {
      "cell_type": "code",
      "metadata": {
        "id": "6BijsUDNo0lZ"
      },
      "source": [
        "import os\n",
        "from keras.preprocessing import image\n",
        "import numpy as np\n",
        "import matplotlib.pyplot as plt\n",
        "from sklearn.model_selection import train_test_split\n",
        "from keras.models import Sequential\n",
        "from keras.layers import Dense, Dropout\n",
        "from keras.layers import LSTM\n"
      ],
      "execution_count": null,
      "outputs": []
    },
    {
      "cell_type": "code",
      "metadata": {
        "id": "ouCTJ-X_up-x"
      },
      "source": [
        "pathSnoring = '/content/drive/MyDrive/Data/MFCCData_m/Snoring/' #'/content/drive/MyDrive/PAPER HN/Snoring problem/Data/MFCCData_m/Snoring/'\n",
        "pathNonSnoring = '/content/drive/MyDrive/Data/MFCCData_m/Snoring/' #'/content/drive/MyDrive/PAPER HN/Snoring problem/Data/MFCCData_m/NonSnoring/'\n",
        "\n",
        "listSnoreFile = os.listdir(pathSnoring)\n",
        "listNonSnoreFile = os.listdir(pathNonSnoring)"
      ],
      "execution_count": null,
      "outputs": []
    },
    {
      "cell_type": "code",
      "metadata": {
        "id": "x3sFTXagu1AL"
      },
      "source": [
        "train_image = []\n",
        "label = []\n",
        "\n",
        "num_feature = 0\n",
        "for id in range(0, len(listSnoreFile)):\n",
        "  filePath = os.path.join(pathSnoring, listSnoreFile[id])\n",
        "  img = np.load(filePath)\n",
        "  train_image.append(img)\n",
        "  num_feature += 1\n",
        "label.extend([1] * num_feature)\n",
        "\n",
        "num_feature = 0\n",
        "for id in range(0, len(listNonSnoreFile)):\n",
        "  filePath = os.path.join(pathNonSnoring, listNonSnoreFile[id])\n",
        "  img = np.load(filePath)\n",
        "  train_image.append(img)\n",
        "  num_feature += 1\n",
        "label.extend([0] * num_feature)\n",
        "\n",
        "X, y = np.array(train_image), np.array(label)"
      ],
      "execution_count": null,
      "outputs": []
    },
    {
      "cell_type": "code",
      "metadata": {
        "colab": {
          "base_uri": "https://localhost:8080/"
        },
        "id": "UBVOh5fIZufO",
        "outputId": "c70ecb00-509d-442d-d43d-b44df6bceac4"
      },
      "source": [
        "def split_sequence(sequence, timesteps, stride=5):\n",
        "    result = []\n",
        "    for i in range(0, len(sequence) - timesteps, stride):\n",
        "        result.append(sequence[i:i + timesteps])\n",
        "    return np.array(result)\n",
        "\n",
        "\n",
        "timesteps = 10\n",
        "X = np.expand_dims(np.concatenate((split_sequence(X[:500], timesteps), split_sequence(X[500:], timesteps)), axis=0), axis=4)\n",
        "y = np.array([0] * (X.shape[0] // 2) + [1] * (X.shape[0] // 2))\n",
        "print(X.shape, y.shape)"
      ],
      "execution_count": null,
      "outputs": [
        {
          "output_type": "stream",
          "name": "stdout",
          "text": [
            "(196, 10, 32, 32, 1) (196,)\n"
          ]
        }
      ]
    },
    {
      "cell_type": "code",
      "metadata": {
        "id": "NpH1c-77tyvD"
      },
      "source": [
        "X_train, X_test, y_train, y_test = train_test_split(X, y, test_size = 0.1)\n",
        "test = X_test\n",
        "X_train, X_test, y_train, y_test = train_test_split(X_train, y_train, test_size = 0.222)"
      ],
      "execution_count": null,
      "outputs": []
    },
    {
      "cell_type": "code",
      "metadata": {
        "id": "fZxmbfLxYBJq"
      },
      "source": [
        "from keras.layers import Conv2D, MaxPooling2D\n",
        "from keras.layers import Dense, Dropout, Flatten\n",
        "from keras.layers import TimeDistributed,  LSTM\n",
        "\n",
        "# CNN + LSTM\n",
        "cnn = Sequential()\n",
        "cnn.add(Conv2D(32, kernel_size = (3,3), padding = \"same\", activation=\"relu\", input_shape = (32,32,1)))\n",
        "cnn.add(Conv2D(32, kernel_size = (3,3), padding = \"valid\", activation=\"relu\"))\n",
        "cnn.add(MaxPooling2D(pool_size=(2, 2)))\n",
        "cnn.add(Dropout(0.25))\n",
        "cnn.add(Conv2D(64, kernel_size = (3,3), padding = \"same\", activation=\"relu\"))\n",
        "cnn.add(Conv2D(64, kernel_size = (3,3), padding = \"valid\", activation=\"relu\"))\n",
        "cnn.add(MaxPooling2D(pool_size=(2, 2)))\n",
        "cnn.add(Dropout(0.25))\n",
        "cnn.add(Flatten())\n",
        "\n",
        "model = Sequential()\n",
        "model.add(TimeDistributed(cnn, input_shape=(timesteps, 32, 32, 1)))\n",
        "model.add(LSTM(2))\n",
        "model.add(Dense(64, activation='relu'))\n",
        "model.add(Dense(1, activation='sigmoid'))"
      ],
      "execution_count": null,
      "outputs": []
    },
    {
      "cell_type": "code",
      "metadata": {
        "id": "Eoa__JZqCkDw"
      },
      "source": [
        "model = Sequential()\n",
        "model.add(LSTM(2))\n",
        "model.add(Dropout(0.2))\n",
        "model.add(Dense(64, activation='relu'))\n",
        "model.add(Dense(1, activation='sigmoid'))"
      ],
      "execution_count": null,
      "outputs": []
    },
    {
      "cell_type": "code",
      "metadata": {
        "id": "sN90oixRD5vA"
      },
      "source": [
        "model.compile(optimizer='adam',  loss='binary_crossentropy', metrics=['accuracy'])"
      ],
      "execution_count": null,
      "outputs": []
    },
    {
      "cell_type": "code",
      "metadata": {
        "colab": {
          "base_uri": "https://localhost:8080/"
        },
        "id": "qTtgu_IjEMAz",
        "outputId": "4c7dc8a5-21c4-4ce4-8ea1-530e5afdfd37"
      },
      "source": [
        "history = model.fit(X_train,  y_train, epochs=100, validation_data = (X_test, y_test))"
      ],
      "execution_count": 17,
      "outputs": [
        {
          "output_type": "stream",
          "name": "stdout",
          "text": [
            "Epoch 1/100\n",
            "5/5 [==============================] - 5s 1s/step - loss: 0.0012 - accuracy: 1.0000 - val_loss: 0.0012 - val_accuracy: 1.0000\n",
            "Epoch 2/100\n",
            "5/5 [==============================] - 5s 1s/step - loss: 0.0012 - accuracy: 1.0000 - val_loss: 0.0012 - val_accuracy: 1.0000\n",
            "Epoch 3/100\n",
            "5/5 [==============================] - 5s 1s/step - loss: 0.0012 - accuracy: 1.0000 - val_loss: 0.0012 - val_accuracy: 1.0000\n",
            "Epoch 4/100\n",
            "5/5 [==============================] - 5s 1s/step - loss: 0.0012 - accuracy: 1.0000 - val_loss: 0.0012 - val_accuracy: 1.0000\n",
            "Epoch 5/100\n",
            "5/5 [==============================] - 5s 1s/step - loss: 0.0012 - accuracy: 1.0000 - val_loss: 0.0011 - val_accuracy: 1.0000\n",
            "Epoch 6/100\n",
            "5/5 [==============================] - 5s 1s/step - loss: 0.0012 - accuracy: 1.0000 - val_loss: 0.0011 - val_accuracy: 1.0000\n",
            "Epoch 7/100\n",
            "5/5 [==============================] - 5s 1s/step - loss: 0.0012 - accuracy: 1.0000 - val_loss: 0.0011 - val_accuracy: 1.0000\n",
            "Epoch 8/100\n",
            "5/5 [==============================] - 5s 1s/step - loss: 0.0011 - accuracy: 1.0000 - val_loss: 0.0011 - val_accuracy: 1.0000\n",
            "Epoch 9/100\n",
            "5/5 [==============================] - 5s 1s/step - loss: 0.0011 - accuracy: 1.0000 - val_loss: 0.0011 - val_accuracy: 1.0000\n",
            "Epoch 10/100\n",
            "5/5 [==============================] - 5s 1s/step - loss: 0.0011 - accuracy: 1.0000 - val_loss: 0.0011 - val_accuracy: 1.0000\n",
            "Epoch 11/100\n",
            "5/5 [==============================] - 5s 998ms/step - loss: 0.0011 - accuracy: 1.0000 - val_loss: 0.0011 - val_accuracy: 1.0000\n",
            "Epoch 12/100\n",
            "5/5 [==============================] - 5s 1s/step - loss: 0.0011 - accuracy: 1.0000 - val_loss: 0.0010 - val_accuracy: 1.0000\n",
            "Epoch 13/100\n",
            "5/5 [==============================] - 5s 1s/step - loss: 0.0011 - accuracy: 1.0000 - val_loss: 0.0010 - val_accuracy: 1.0000\n",
            "Epoch 14/100\n",
            "5/5 [==============================] - 5s 1s/step - loss: 0.0011 - accuracy: 1.0000 - val_loss: 0.0010 - val_accuracy: 1.0000\n",
            "Epoch 15/100\n",
            "5/5 [==============================] - 5s 1s/step - loss: 0.0011 - accuracy: 1.0000 - val_loss: 0.0010 - val_accuracy: 1.0000\n",
            "Epoch 16/100\n",
            "5/5 [==============================] - 5s 999ms/step - loss: 0.0010 - accuracy: 1.0000 - val_loss: 0.0010 - val_accuracy: 1.0000\n",
            "Epoch 17/100\n",
            "5/5 [==============================] - 5s 1000ms/step - loss: 0.0010 - accuracy: 1.0000 - val_loss: 9.9312e-04 - val_accuracy: 1.0000\n",
            "Epoch 18/100\n",
            "5/5 [==============================] - 5s 1s/step - loss: 0.0010 - accuracy: 1.0000 - val_loss: 9.8237e-04 - val_accuracy: 1.0000\n",
            "Epoch 19/100\n",
            "5/5 [==============================] - 5s 1s/step - loss: 0.0010 - accuracy: 1.0000 - val_loss: 9.7177e-04 - val_accuracy: 1.0000\n",
            "Epoch 20/100\n",
            "5/5 [==============================] - 5s 1s/step - loss: 0.0010 - accuracy: 1.0000 - val_loss: 9.6132e-04 - val_accuracy: 1.0000\n",
            "Epoch 21/100\n",
            "5/5 [==============================] - 5s 1s/step - loss: 9.9036e-04 - accuracy: 1.0000 - val_loss: 9.5111e-04 - val_accuracy: 1.0000\n",
            "Epoch 22/100\n",
            "5/5 [==============================] - 5s 1s/step - loss: 9.7838e-04 - accuracy: 1.0000 - val_loss: 9.4105e-04 - val_accuracy: 1.0000\n",
            "Epoch 23/100\n",
            "5/5 [==============================] - 5s 1s/step - loss: 9.6788e-04 - accuracy: 1.0000 - val_loss: 9.3110e-04 - val_accuracy: 1.0000\n",
            "Epoch 24/100\n",
            "5/5 [==============================] - 5s 1s/step - loss: 9.5632e-04 - accuracy: 1.0000 - val_loss: 9.2130e-04 - val_accuracy: 1.0000\n",
            "Epoch 25/100\n",
            "5/5 [==============================] - 5s 1s/step - loss: 9.4592e-04 - accuracy: 1.0000 - val_loss: 9.1166e-04 - val_accuracy: 1.0000\n",
            "Epoch 26/100\n",
            "5/5 [==============================] - 5s 1s/step - loss: 9.3879e-04 - accuracy: 1.0000 - val_loss: 9.0221e-04 - val_accuracy: 1.0000\n",
            "Epoch 27/100\n",
            "5/5 [==============================] - 5s 1s/step - loss: 9.2639e-04 - accuracy: 1.0000 - val_loss: 8.9292e-04 - val_accuracy: 1.0000\n",
            "Epoch 28/100\n",
            "5/5 [==============================] - 5s 1s/step - loss: 9.1732e-04 - accuracy: 1.0000 - val_loss: 8.8374e-04 - val_accuracy: 1.0000\n",
            "Epoch 29/100\n",
            "5/5 [==============================] - 5s 1s/step - loss: 9.0729e-04 - accuracy: 1.0000 - val_loss: 8.7470e-04 - val_accuracy: 1.0000\n",
            "Epoch 30/100\n",
            "5/5 [==============================] - 5s 1s/step - loss: 8.9881e-04 - accuracy: 1.0000 - val_loss: 8.6579e-04 - val_accuracy: 1.0000\n",
            "Epoch 31/100\n",
            "5/5 [==============================] - 5s 1s/step - loss: 8.9043e-04 - accuracy: 1.0000 - val_loss: 8.5698e-04 - val_accuracy: 1.0000\n",
            "Epoch 32/100\n",
            "5/5 [==============================] - 5s 1s/step - loss: 8.7989e-04 - accuracy: 1.0000 - val_loss: 8.4830e-04 - val_accuracy: 1.0000\n",
            "Epoch 33/100\n",
            "5/5 [==============================] - 5s 1s/step - loss: 8.7316e-04 - accuracy: 1.0000 - val_loss: 8.3977e-04 - val_accuracy: 1.0000\n",
            "Epoch 34/100\n",
            "5/5 [==============================] - 5s 1s/step - loss: 8.6218e-04 - accuracy: 1.0000 - val_loss: 8.3136e-04 - val_accuracy: 1.0000\n",
            "Epoch 35/100\n",
            "5/5 [==============================] - 5s 1s/step - loss: 8.5514e-04 - accuracy: 1.0000 - val_loss: 8.2304e-04 - val_accuracy: 1.0000\n",
            "Epoch 36/100\n",
            "5/5 [==============================] - 5s 1s/step - loss: 8.4519e-04 - accuracy: 1.0000 - val_loss: 8.1487e-04 - val_accuracy: 1.0000\n",
            "Epoch 37/100\n",
            "5/5 [==============================] - 5s 1s/step - loss: 8.4031e-04 - accuracy: 1.0000 - val_loss: 8.0682e-04 - val_accuracy: 1.0000\n",
            "Epoch 38/100\n",
            "5/5 [==============================] - 5s 1s/step - loss: 8.3071e-04 - accuracy: 1.0000 - val_loss: 7.9892e-04 - val_accuracy: 1.0000\n",
            "Epoch 39/100\n",
            "5/5 [==============================] - 5s 1s/step - loss: 8.2057e-04 - accuracy: 1.0000 - val_loss: 7.9113e-04 - val_accuracy: 1.0000\n",
            "Epoch 40/100\n",
            "5/5 [==============================] - 5s 999ms/step - loss: 8.1353e-04 - accuracy: 1.0000 - val_loss: 7.8343e-04 - val_accuracy: 1.0000\n",
            "Epoch 41/100\n",
            "5/5 [==============================] - 5s 1s/step - loss: 8.0601e-04 - accuracy: 1.0000 - val_loss: 7.7580e-04 - val_accuracy: 1.0000\n",
            "Epoch 42/100\n",
            "5/5 [==============================] - 5s 1s/step - loss: 7.9717e-04 - accuracy: 1.0000 - val_loss: 7.6829e-04 - val_accuracy: 1.0000\n",
            "Epoch 43/100\n",
            "5/5 [==============================] - 5s 1s/step - loss: 7.8871e-04 - accuracy: 1.0000 - val_loss: 7.6089e-04 - val_accuracy: 1.0000\n",
            "Epoch 44/100\n",
            "5/5 [==============================] - 5s 1s/step - loss: 7.8159e-04 - accuracy: 1.0000 - val_loss: 7.5360e-04 - val_accuracy: 1.0000\n",
            "Epoch 45/100\n",
            "5/5 [==============================] - 5s 1s/step - loss: 7.7481e-04 - accuracy: 1.0000 - val_loss: 7.4638e-04 - val_accuracy: 1.0000\n",
            "Epoch 46/100\n",
            "5/5 [==============================] - 5s 996ms/step - loss: 7.6758e-04 - accuracy: 1.0000 - val_loss: 7.3926e-04 - val_accuracy: 1.0000\n",
            "Epoch 47/100\n",
            "5/5 [==============================] - 5s 1s/step - loss: 7.6299e-04 - accuracy: 1.0000 - val_loss: 7.3233e-04 - val_accuracy: 1.0000\n",
            "Epoch 48/100\n",
            "5/5 [==============================] - 5s 1s/step - loss: 7.5296e-04 - accuracy: 1.0000 - val_loss: 7.2544e-04 - val_accuracy: 1.0000\n",
            "Epoch 49/100\n",
            "5/5 [==============================] - 5s 1s/step - loss: 7.4746e-04 - accuracy: 1.0000 - val_loss: 7.1864e-04 - val_accuracy: 1.0000\n",
            "Epoch 50/100\n",
            "5/5 [==============================] - 5s 1000ms/step - loss: 7.3879e-04 - accuracy: 1.0000 - val_loss: 7.1193e-04 - val_accuracy: 1.0000\n",
            "Epoch 51/100\n",
            "5/5 [==============================] - 5s 998ms/step - loss: 7.3111e-04 - accuracy: 1.0000 - val_loss: 7.0531e-04 - val_accuracy: 1.0000\n",
            "Epoch 52/100\n",
            "5/5 [==============================] - 5s 1s/step - loss: 7.2629e-04 - accuracy: 1.0000 - val_loss: 6.9878e-04 - val_accuracy: 1.0000\n",
            "Epoch 53/100\n",
            "5/5 [==============================] - 5s 1s/step - loss: 7.1804e-04 - accuracy: 1.0000 - val_loss: 6.9234e-04 - val_accuracy: 1.0000\n",
            "Epoch 54/100\n",
            "5/5 [==============================] - 5s 1s/step - loss: 7.1252e-04 - accuracy: 1.0000 - val_loss: 6.8597e-04 - val_accuracy: 1.0000\n",
            "Epoch 55/100\n",
            "5/5 [==============================] - 5s 1s/step - loss: 7.0493e-04 - accuracy: 1.0000 - val_loss: 6.7968e-04 - val_accuracy: 1.0000\n",
            "Epoch 56/100\n",
            "5/5 [==============================] - 5s 998ms/step - loss: 6.9892e-04 - accuracy: 1.0000 - val_loss: 6.7346e-04 - val_accuracy: 1.0000\n",
            "Epoch 57/100\n",
            "5/5 [==============================] - 5s 1s/step - loss: 6.9201e-04 - accuracy: 1.0000 - val_loss: 6.6734e-04 - val_accuracy: 1.0000\n",
            "Epoch 58/100\n",
            "5/5 [==============================] - 5s 1000ms/step - loss: 6.8553e-04 - accuracy: 1.0000 - val_loss: 6.6130e-04 - val_accuracy: 1.0000\n",
            "Epoch 59/100\n",
            "5/5 [==============================] - 5s 1s/step - loss: 6.8031e-04 - accuracy: 1.0000 - val_loss: 6.5534e-04 - val_accuracy: 1.0000\n",
            "Epoch 60/100\n",
            "5/5 [==============================] - 5s 1s/step - loss: 6.7400e-04 - accuracy: 1.0000 - val_loss: 6.4945e-04 - val_accuracy: 1.0000\n",
            "Epoch 61/100\n",
            "5/5 [==============================] - 5s 1s/step - loss: 6.6703e-04 - accuracy: 1.0000 - val_loss: 6.4364e-04 - val_accuracy: 1.0000\n",
            "Epoch 62/100\n",
            "5/5 [==============================] - 5s 1s/step - loss: 6.6149e-04 - accuracy: 1.0000 - val_loss: 6.3791e-04 - val_accuracy: 1.0000\n",
            "Epoch 63/100\n",
            "5/5 [==============================] - 5s 1s/step - loss: 6.5600e-04 - accuracy: 1.0000 - val_loss: 6.3225e-04 - val_accuracy: 1.0000\n",
            "Epoch 64/100\n",
            "5/5 [==============================] - 5s 1000ms/step - loss: 6.5055e-04 - accuracy: 1.0000 - val_loss: 6.2666e-04 - val_accuracy: 1.0000\n",
            "Epoch 65/100\n",
            "5/5 [==============================] - 5s 1s/step - loss: 6.4438e-04 - accuracy: 1.0000 - val_loss: 6.2114e-04 - val_accuracy: 1.0000\n",
            "Epoch 66/100\n",
            "5/5 [==============================] - 5s 1s/step - loss: 6.3919e-04 - accuracy: 1.0000 - val_loss: 6.1569e-04 - val_accuracy: 1.0000\n",
            "Epoch 67/100\n",
            "5/5 [==============================] - 5s 1s/step - loss: 6.3416e-04 - accuracy: 1.0000 - val_loss: 6.1032e-04 - val_accuracy: 1.0000\n",
            "Epoch 68/100\n",
            "5/5 [==============================] - 5s 1s/step - loss: 6.2749e-04 - accuracy: 1.0000 - val_loss: 6.0502e-04 - val_accuracy: 1.0000\n",
            "Epoch 69/100\n",
            "5/5 [==============================] - 5s 1s/step - loss: 6.2157e-04 - accuracy: 1.0000 - val_loss: 5.9978e-04 - val_accuracy: 1.0000\n",
            "Epoch 70/100\n",
            "5/5 [==============================] - 5s 1s/step - loss: 6.1673e-04 - accuracy: 1.0000 - val_loss: 5.9461e-04 - val_accuracy: 1.0000\n",
            "Epoch 71/100\n",
            "5/5 [==============================] - 5s 1s/step - loss: 6.1216e-04 - accuracy: 1.0000 - val_loss: 5.8949e-04 - val_accuracy: 1.0000\n",
            "Epoch 72/100\n",
            "5/5 [==============================] - 5s 1s/step - loss: 6.0575e-04 - accuracy: 1.0000 - val_loss: 5.8444e-04 - val_accuracy: 1.0000\n",
            "Epoch 73/100\n",
            "5/5 [==============================] - 5s 1s/step - loss: 6.0398e-04 - accuracy: 1.0000 - val_loss: 5.7945e-04 - val_accuracy: 1.0000\n",
            "Epoch 74/100\n",
            "5/5 [==============================] - 5s 1s/step - loss: 5.9670e-04 - accuracy: 1.0000 - val_loss: 5.7450e-04 - val_accuracy: 1.0000\n",
            "Epoch 75/100\n",
            "5/5 [==============================] - 5s 1s/step - loss: 5.9147e-04 - accuracy: 1.0000 - val_loss: 5.6963e-04 - val_accuracy: 1.0000\n",
            "Epoch 76/100\n",
            "5/5 [==============================] - 5s 1s/step - loss: 5.8751e-04 - accuracy: 1.0000 - val_loss: 5.6485e-04 - val_accuracy: 1.0000\n",
            "Epoch 77/100\n",
            "5/5 [==============================] - 5s 1s/step - loss: 5.8065e-04 - accuracy: 1.0000 - val_loss: 5.6021e-04 - val_accuracy: 1.0000\n",
            "Epoch 78/100\n",
            "5/5 [==============================] - 5s 1s/step - loss: 5.7639e-04 - accuracy: 1.0000 - val_loss: 5.5561e-04 - val_accuracy: 1.0000\n",
            "Epoch 79/100\n",
            "5/5 [==============================] - 5s 1s/step - loss: 5.7153e-04 - accuracy: 1.0000 - val_loss: 5.5104e-04 - val_accuracy: 1.0000\n",
            "Epoch 80/100\n",
            "5/5 [==============================] - 5s 1s/step - loss: 5.6683e-04 - accuracy: 1.0000 - val_loss: 5.4650e-04 - val_accuracy: 1.0000\n",
            "Epoch 81/100\n",
            "5/5 [==============================] - 5s 1s/step - loss: 5.6254e-04 - accuracy: 1.0000 - val_loss: 5.4199e-04 - val_accuracy: 1.0000\n",
            "Epoch 82/100\n",
            "5/5 [==============================] - 5s 1s/step - loss: 5.5710e-04 - accuracy: 1.0000 - val_loss: 5.3754e-04 - val_accuracy: 1.0000\n",
            "Epoch 83/100\n",
            "5/5 [==============================] - 5s 1s/step - loss: 5.5287e-04 - accuracy: 1.0000 - val_loss: 5.3313e-04 - val_accuracy: 1.0000\n",
            "Epoch 84/100\n",
            "5/5 [==============================] - 5s 1s/step - loss: 5.5055e-04 - accuracy: 1.0000 - val_loss: 5.2872e-04 - val_accuracy: 1.0000\n",
            "Epoch 85/100\n",
            "5/5 [==============================] - 5s 1s/step - loss: 5.4338e-04 - accuracy: 1.0000 - val_loss: 5.2438e-04 - val_accuracy: 1.0000\n",
            "Epoch 86/100\n",
            "5/5 [==============================] - 5s 1s/step - loss: 5.3938e-04 - accuracy: 1.0000 - val_loss: 5.2010e-04 - val_accuracy: 1.0000\n",
            "Epoch 87/100\n",
            "5/5 [==============================] - 5s 1s/step - loss: 5.3444e-04 - accuracy: 1.0000 - val_loss: 5.1588e-04 - val_accuracy: 1.0000\n",
            "Epoch 88/100\n",
            "5/5 [==============================] - 5s 1s/step - loss: 5.3105e-04 - accuracy: 1.0000 - val_loss: 5.1171e-04 - val_accuracy: 1.0000\n",
            "Epoch 89/100\n",
            "5/5 [==============================] - 5s 1s/step - loss: 5.2697e-04 - accuracy: 1.0000 - val_loss: 5.0760e-04 - val_accuracy: 1.0000\n",
            "Epoch 90/100\n",
            "5/5 [==============================] - 5s 1s/step - loss: 5.2264e-04 - accuracy: 1.0000 - val_loss: 5.0354e-04 - val_accuracy: 1.0000\n",
            "Epoch 91/100\n",
            "5/5 [==============================] - 5s 1s/step - loss: 5.1748e-04 - accuracy: 1.0000 - val_loss: 4.9952e-04 - val_accuracy: 1.0000\n",
            "Epoch 92/100\n",
            "5/5 [==============================] - 5s 1s/step - loss: 5.1343e-04 - accuracy: 1.0000 - val_loss: 4.9554e-04 - val_accuracy: 1.0000\n",
            "Epoch 93/100\n",
            "5/5 [==============================] - 5s 1s/step - loss: 5.0971e-04 - accuracy: 1.0000 - val_loss: 4.9161e-04 - val_accuracy: 1.0000\n",
            "Epoch 94/100\n",
            "5/5 [==============================] - 5s 1s/step - loss: 5.0495e-04 - accuracy: 1.0000 - val_loss: 4.8772e-04 - val_accuracy: 1.0000\n",
            "Epoch 95/100\n",
            "5/5 [==============================] - 5s 1s/step - loss: 5.0194e-04 - accuracy: 1.0000 - val_loss: 4.8387e-04 - val_accuracy: 1.0000\n",
            "Epoch 96/100\n",
            "5/5 [==============================] - 5s 1s/step - loss: 4.9756e-04 - accuracy: 1.0000 - val_loss: 4.8006e-04 - val_accuracy: 1.0000\n",
            "Epoch 97/100\n",
            "5/5 [==============================] - 5s 999ms/step - loss: 4.9370e-04 - accuracy: 1.0000 - val_loss: 4.7631e-04 - val_accuracy: 1.0000\n",
            "Epoch 98/100\n",
            "5/5 [==============================] - 5s 1s/step - loss: 4.9004e-04 - accuracy: 1.0000 - val_loss: 4.7259e-04 - val_accuracy: 1.0000\n",
            "Epoch 99/100\n",
            "5/5 [==============================] - 5s 1s/step - loss: 4.8564e-04 - accuracy: 1.0000 - val_loss: 4.6892e-04 - val_accuracy: 1.0000\n",
            "Epoch 100/100\n",
            "5/5 [==============================] - 5s 1s/step - loss: 4.8195e-04 - accuracy: 1.0000 - val_loss: 4.6530e-04 - val_accuracy: 1.0000\n"
          ]
        }
      ]
    },
    {
      "cell_type": "code",
      "metadata": {
        "colab": {
          "base_uri": "https://localhost:8080/",
          "height": 295
        },
        "id": "8wzDh4BpRTl6",
        "outputId": "289ae2cc-909f-4bd4-ec93-7011d98da482"
      },
      "source": [
        "plt.plot(history.history['accuracy'])\n",
        "plt.plot(history.history['val_accuracy'])\n",
        "plt.title('model accuracy')\n",
        "plt.ylabel('accuracy')\n",
        "plt.xlabel('epoch')\n",
        "plt.legend(['train', 'valid'], loc='upper left')\n",
        "plt.show()"
      ],
      "execution_count": 18,
      "outputs": [
        {
          "output_type": "display_data",
          "data": {
            "image/png": "[encoded data removed]",
            "text/plain": [
              "<Figure size 432x288 with 1 Axes>"
            ]
          },
          "metadata": {
            "needs_background": "light"
          }
        }
      ]
    },
    {
      "cell_type": "code",
      "metadata": {
        "colab": {
          "base_uri": "https://localhost:8080/",
          "height": 295
        },
        "id": "kAYvG11hR0ZQ",
        "outputId": "7bf03664-f953-471b-9724-87cfa14966f5"
      },
      "source": [
        "plt.plot(history.history['loss'])\n",
        "plt.plot(history.history['val_loss'])\n",
        "plt.title('model loss')\n",
        "plt.ylabel('loss')\n",
        "plt.xlabel('epoch')\n",
        "plt.legend(['train', 'valid'], loc='upper left')\n",
        "plt.show()"
      ],
      "execution_count": 19,
      "outputs": [
        {
          "output_type": "display_data",
          "data": {
            "image/png": "[encoded data removed]",
            "text/plain": [
              "<Figure size 432x288 with 1 Axes>"
            ]
          },
          "metadata": {
            "needs_background": "light"
          }
        }
      ]
    },
    {
      "cell_type": "code",
      "metadata": {
        "colab": {
          "base_uri": "https://localhost:8080/",
          "height": 17
        },
        "id": "CEw7f-QzTlOq",
        "outputId": "cabf6ad4-c4a5-4894-8fe0-35b393c7b996"
      },
      "source": [
        "from google.colab import files\n",
        "model.save('mix_model.h5')\n",
        "files.download('mix_model.h5')"
      ],
      "execution_count": 21,
      "outputs": [
        {
          "output_type": "display_data",
          "data": {
            "application/javascript": [
              "\n",
              "    async function download(id, filename, size) {\n",
              "      if (!google.colab.kernel.accessAllowed) {\n",
              "        return;\n",
              "      }\n",
              "      const div = document.createElement('div');\n",
              "      const label = document.createElement('label');\n",
              "      label.textContent = `Downloading \"${filename}\": `;\n",
              "      div.appendChild(label);\n",
              "      const progress = document.createElement('progress');\n",
              "      progress.max = size;\n",
              "      div.appendChild(progress);\n",
              "      document.body.appendChild(div);\n",
              "\n",
              "      const buffers = [];\n",
              "      let downloaded = 0;\n",
              "\n",
              "      const channel = await google.colab.kernel.comms.open(id);\n",
              "      // Send a message to notify the kernel that we're ready.\n",
              "      channel.send({})\n",
              "\n",
              "      for await (const message of channel.messages) {\n",
              "        // Send a message to notify the kernel that we're ready.\n",
              "        channel.send({})\n",
              "        if (message.buffers) {\n",
              "          for (const buffer of message.buffers) {\n",
              "            buffers.push(buffer);\n",
              "            downloaded += buffer.byteLength;\n",
              "            progress.value = downloaded;\n",
              "          }\n",
              "        }\n",
              "      }\n",
              "      const blob = new Blob(buffers, {type: 'application/binary'});\n",
              "      const a = document.createElement('a');\n",
              "      a.href = window.URL.createObjectURL(blob);\n",
              "      a.download = filename;\n",
              "      div.appendChild(a);\n",
              "      a.click();\n",
              "      div.remove();\n",
              "    }\n",
              "  "
            ],
            "text/plain": [
              "<IPython.core.display.Javascript object>"
            ]
          },
          "metadata": {}
        },
        {
          "output_type": "display_data",
          "data": {
            "application/javascript": [
              "download(\"download_ac36df96-fb5f-44c8-8b70-5cbaa7d73737\", \"mix_model.h5\", 1068632)"
            ],
            "text/plain": [
              "<IPython.core.display.Javascript object>"
            ]
          },
          "metadata": {}
        }
      ]
    }
  ]
}